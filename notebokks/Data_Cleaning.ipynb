{
 "cells": [
  {
   "cell_type": "code",
   "execution_count": 2,
   "id": "a14b2167-1550-4277-88a5-23c3d6a044aa",
   "metadata": {},
   "outputs": [],
   "source": [
    "import pandas as pd\n",
    "import numpy as np\n",
    "\n",
    "dirty_data = pd.read_csv(r\"C:\\Users\\USER\\Downloads\\dirty_cafe_sales.csv\")"
   ]
  },
  {
   "cell_type": "code",
   "execution_count": null,
   "id": "a3c64d9f-ca43-4b62-a55f-523ef96bedec",
   "metadata": {},
   "outputs": [],
   "source": [
    "#the dataset is dirty, with missing values, UNKNOWNS, AND ERRORS\n",
    "#we will first conver the \"ERROR\" and \"UNKNOWN\" to null values\n",
    "#for the Item, Payment Method, and Location columns, we will replace the missing values with the mode"
   ]
  },
  {
   "cell_type": "code",
   "execution_count": 4,
   "id": "630d7da4-278f-444d-9cd2-730332dc6780",
   "metadata": {},
   "outputs": [],
   "source": [
    "#first convert the \"UNKNOWN\" and \"ERROR\" in \"Payment Method\" , \"Item\", and \"Location\" columns to null\n",
    "\n",
    "dirty_data['Location'] = dirty_data['Location'].replace(\"UNKNOWN\", pd.NA)\n",
    "dirty_data['Payment Method'] = dirty_data['Payment Method'].replace(\"ERROR\", pd.NA)\n",
    "dirty_data['Location'] = dirty_data['Location'].replace(\"ERROR\", pd.NA)\n",
    "dirty_data['Payment Method'] = dirty_data['Payment Method'].replace(\"UNKNOWN\", pd.NA)\n",
    "dirty_data['Item'] = dirty_data['Item'].replace(\"ERROR\", pd.NA)\n",
    "dirty_data['Item'] = dirty_data['Item'].replace(\"UNKNOWN\", pd.NA)"
   ]
  },
  {
   "cell_type": "code",
   "execution_count": 6,
   "id": "b2606e37-01e6-4eef-86b5-4549fb4084c9",
   "metadata": {},
   "outputs": [],
   "source": [
    "#then replace the nulls with the mode\n",
    "\n",
    "dirty_data.fillna({'Item': dirty_data['Item'].mode()[0]}, inplace=True)\n",
    "dirty_data.fillna({'Location': dirty_data['Location'].mode()[0]}, inplace=True)\n",
    "dirty_data.fillna({'Payment Method': dirty_data['Payment Method'].mode()[0]}, inplace=True)"
   ]
  },
  {
   "cell_type": "code",
   "execution_count": 8,
   "id": "d36ca2f5-c53b-42ab-bb63-56c09d1fbb17",
   "metadata": {},
   "outputs": [
    {
     "data": {
      "text/plain": [
       "Transaction ID        0\n",
       "Item                  0\n",
       "Quantity            138\n",
       "Price Per Unit      179\n",
       "Total Spent         173\n",
       "Payment Method        0\n",
       "Location              0\n",
       "Transaction Date    159\n",
       "dtype: int64"
      ]
     },
     "execution_count": 8,
     "metadata": {},
     "output_type": "execute_result"
    }
   ],
   "source": [
    "#checking for null values\n",
    "\n",
    "dirty_data.isnull().sum()"
   ]
  },
  {
   "cell_type": "code",
   "execution_count": null,
   "id": "b1e31916-e95c-4247-accf-3a7ce682a48a",
   "metadata": {},
   "outputs": [],
   "source": [
    "#we are done with the non-numeric columns\n",
    "#for the Quantity and Price Per Unit columns, we will use the mean\n",
    "#Total Spent depends on Quantity and Price Per Unit i.e Total Spent = Quantity * Price Per Unit "
   ]
  },
  {
   "cell_type": "code",
   "execution_count": 10,
   "id": "f517f0cb-7396-46ee-a09a-2edc776fe9bc",
   "metadata": {},
   "outputs": [],
   "source": [
    "#replace \"UNKNOWN\" and \"ERROR\" to null\n",
    "\n",
    "dirty_data['Total Spent'] = dirty_data['Total Spent'].replace(\"UNKNOWN\", pd.NA)\n",
    "dirty_data['Price Per Unit'] = dirty_data['Price Per Unit'].replace(\"UNKNOWN\", pd.NA)\n",
    "dirty_data['Quantity'] = dirty_data['Quantity'].replace(\"UNKNOWN\", pd.NA)\n",
    "\n",
    "dirty_data['Total Spent'] = dirty_data['Total Spent'].replace(\"ERROR\", pd.NA)\n",
    "dirty_data['Price Per Unit'] = dirty_data['Price Per Unit'].replace(\"ERROR\", pd.NA)\n",
    "dirty_data['Quantity'] = dirty_data['Quantity'].replace(\"ERROR\", pd.NA)"
   ]
  },
  {
   "cell_type": "code",
   "execution_count": 12,
   "id": "36746c86-113c-48f2-9822-31054bbfc69e",
   "metadata": {},
   "outputs": [],
   "source": [
    "# We will then convert the columns to numeric\n",
    "\n",
    "dirty_data['Quantity'] = pd.to_numeric(dirty_data['Quantity'], errors='coerce')\n",
    "dirty_data['Price Per Unit'] = pd.to_numeric(dirty_data['Price Per Unit'], errors='coerce')\n",
    "dirty_data['Total Spent'] = pd.to_numeric(dirty_data['Total Spent'], errors='coerce')"
   ]
  },
  {
   "cell_type": "code",
   "execution_count": 14,
   "id": "ccfbdbc1-570d-4c34-a59b-496c2e75540c",
   "metadata": {},
   "outputs": [],
   "source": [
    "# now that the columns are of the correct format, we will then replace the NaN values with the mean\n",
    "\n",
    "dirty_data.fillna({'Price Per Unit': dirty_data['Price Per Unit'].mean()}, inplace=True)\n",
    "dirty_data.fillna({'Quantity': dirty_data['Quantity'].mean()}, inplace=True)"
   ]
  },
  {
   "cell_type": "code",
   "execution_count": 16,
   "id": "54173737-07ec-4f1a-be19-b5c1c7235b1b",
   "metadata": {},
   "outputs": [],
   "source": [
    "# we will now re-calculate the Total Spent column to fill in the null values\n",
    "\n",
    "dirty_data.loc[dirty_data['Total Spent'].isna(), 'Total Spent'] = (\n",
    "    dirty_data['Quantity'] * dirty_data['Price Per Unit']\n",
    ")"
   ]
  },
  {
   "cell_type": "code",
   "execution_count": 18,
   "id": "135239aa-3a1a-4c21-bb9b-8907844f3dac",
   "metadata": {},
   "outputs": [
    {
     "name": "stdout",
     "output_type": "stream",
     "text": [
      "<class 'pandas.core.frame.DataFrame'>\n",
      "RangeIndex: 10000 entries, 0 to 9999\n",
      "Data columns (total 8 columns):\n",
      " #   Column            Non-Null Count  Dtype  \n",
      "---  ------            --------------  -----  \n",
      " 0   Transaction ID    10000 non-null  object \n",
      " 1   Item              10000 non-null  object \n",
      " 2   Quantity          10000 non-null  float64\n",
      " 3   Price Per Unit    10000 non-null  float64\n",
      " 4   Total Spent       10000 non-null  float64\n",
      " 5   Payment Method    10000 non-null  object \n",
      " 6   Location          10000 non-null  object \n",
      " 7   Transaction Date  9841 non-null   object \n",
      "dtypes: float64(3), object(5)\n",
      "memory usage: 625.1+ KB\n"
     ]
    }
   ],
   "source": [
    "dirty_data.info()"
   ]
  },
  {
   "cell_type": "code",
   "execution_count": null,
   "id": "2df84ea6-138c-4cbc-aa9c-e12265b685b4",
   "metadata": {},
   "outputs": [],
   "source": [
    "#all columns are now non-null and of the correct format\n",
    "#we now work on the transaction date column\n",
    "#we have missing values, UNKNOWN, and ERROR which we need to clean\n",
    "#the data format is also an object instead of a proper date format\n",
    "#first, we will replace the UNKNOWN and ERROR to null values"
   ]
  },
  {
   "cell_type": "code",
   "execution_count": 20,
   "id": "5ecc8668-f382-4dcb-9ea1-011ddf009aa3",
   "metadata": {},
   "outputs": [],
   "source": [
    "# Replace \"UNKNOWN\" with NaN\n",
    "dirty_data['Transaction Date'] = dirty_data['Transaction Date'].replace(\"UNKNOWN\", pd.NA)\n",
    "dirty_data['Transaction Date'] = dirty_data['Transaction Date'].replace(\"ERROR\", pd.NA)\n",
    "\n",
    "# Convert to datetime format\n",
    "dirty_data['Transaction Date'] = pd.to_datetime(dirty_data['Transaction Date'], errors='coerce')"
   ]
  },
  {
   "cell_type": "code",
   "execution_count": 22,
   "id": "dde560e7-6d93-4075-b639-7491ae9d6416",
   "metadata": {},
   "outputs": [],
   "source": [
    "# Replace missing dateswith the most common date\n",
    "\n",
    "dirty_data.fillna({'Transaction Date': dirty_data['Transaction Date'].mode()[0]}, inplace=True)"
   ]
  },
  {
   "cell_type": "code",
   "execution_count": 24,
   "id": "510e4ac5-7af7-4112-974e-2196074bf02c",
   "metadata": {},
   "outputs": [
    {
     "name": "stdout",
     "output_type": "stream",
     "text": [
      "<class 'pandas.core.frame.DataFrame'>\n",
      "RangeIndex: 10000 entries, 0 to 9999\n",
      "Data columns (total 8 columns):\n",
      " #   Column            Non-Null Count  Dtype         \n",
      "---  ------            --------------  -----         \n",
      " 0   Transaction ID    10000 non-null  object        \n",
      " 1   Item              10000 non-null  object        \n",
      " 2   Quantity          10000 non-null  float64       \n",
      " 3   Price Per Unit    10000 non-null  float64       \n",
      " 4   Total Spent       10000 non-null  float64       \n",
      " 5   Payment Method    10000 non-null  object        \n",
      " 6   Location          10000 non-null  object        \n",
      " 7   Transaction Date  10000 non-null  datetime64[ns]\n",
      "dtypes: datetime64[ns](1), float64(3), object(4)\n",
      "memory usage: 625.1+ KB\n"
     ]
    }
   ],
   "source": [
    "dirty_data.info()"
   ]
  },
  {
   "cell_type": "code",
   "execution_count": null,
   "id": "94054788-d730-49c2-8085-7e083fa4276d",
   "metadata": {},
   "outputs": [],
   "source": [
    "#everything looks good! "
   ]
  }
 ],
 "metadata": {
  "kernelspec": {
   "display_name": "Python 3 (ipykernel)",
   "language": "python",
   "name": "python3"
  },
  "language_info": {
   "codemirror_mode": {
    "name": "ipython",
    "version": 3
   },
   "file_extension": ".py",
   "mimetype": "text/x-python",
   "name": "python",
   "nbconvert_exporter": "python",
   "pygments_lexer": "ipython3",
   "version": "3.12.4"
  }
 },
 "nbformat": 4,
 "nbformat_minor": 5
}
